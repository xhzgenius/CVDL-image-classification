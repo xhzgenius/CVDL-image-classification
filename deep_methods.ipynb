{
 "cells": [
  {
   "cell_type": "markdown",
   "metadata": {},
   "source": [
    "# 以下是神经网络方法。"
   ]
  },
  {
   "cell_type": "code",
   "execution_count": 1,
   "metadata": {},
   "outputs": [
    {
     "name": "stdout",
     "output_type": "stream",
     "text": [
      "CUDA availability: True\n"
     ]
    }
   ],
   "source": [
    "import os\n",
    "from datetime import datetime\n",
    "\n",
    "import numpy as np\n",
    "import torch\n",
    "from torch.utils.data import DataLoader\n",
    "from torch.optim import SGD, Adagrad, Adam\n",
    "from torchvision import datasets, models, transforms\n",
    "from torchvision.models import (ResNet18_Weights, ResNet50_Weights,\n",
    "                                VGG11_Weights, resnet18, resnet50, vgg11)\n",
    "from tqdm import tqdm\n",
    "\n",
    "from dataset import MyDataset\n",
    "from my_mlp import MyMLP\n",
    "from utils import label_int2str, label_str2int, save_config\n",
    "\n",
    "\n",
    "device = \"cuda\"\n",
    "assert torch.cuda.is_available(), \"你TM连CUDA都没你跑个JB\""
   ]
  },
  {
   "cell_type": "markdown",
   "metadata": {},
   "source": [
    "## 运行设置："
   ]
  },
  {
   "cell_type": "code",
   "execution_count": 2,
   "metadata": {},
   "outputs": [],
   "source": [
    "# Run name\n",
    "run_name = datetime.now().strftime(\"%Y-%m-%d %H.%M.%S\")\n",
    "\n",
    "# Network architecture\n",
    "# mlp, resnet18, resnet50, vgg11\n",
    "model_name = \"resnet18\"\n",
    "model_is_pretrained = False\n",
    "num_classes = 6\n",
    "\n",
    "# Optimizer\n",
    "# SGD, Adagrad, Adam\n",
    "optimizer_name = \"Adam\"\n",
    "lr = 3e-3\n",
    "\n",
    "# Data augmentation\n",
    "# \"none\", \"flip\", \"crop\", \"norm\", \"all\"\n",
    "augmentation = \"none\"\n",
    "\n",
    "# Regularization\n",
    "# \"none\", \"weight_decay\", \"dropout\", \"both\"\n",
    "regularization = \"both\""
   ]
  },
  {
   "cell_type": "markdown",
   "metadata": {},
   "source": [
    "## 模型网络架构：\n",
    "\n",
    "(Reference from pytorch.org)\n",
    "\n",
    "| Weight |Acc@1 |Acc@5 |Params |GFLOPS|\n",
    "| ---- | ---- | ---- | ---- | ---- |\n",
    "| ResNet18_Weights.IMAGENET1K_V1 | 69.758 | 89.078 | 11.7M | 1.81 |\n",
    "| ResNet50_Weights.IMAGENET1K_V2 | 80.858 | 95.434 | 25.6M | 4.09 |\n",
    "| VGG11_Weights.IMAGENET1K_V1 | 69.02 | 88.628 | 132.9M | 7.61 |"
   ]
  },
  {
   "cell_type": "code",
   "execution_count": 3,
   "metadata": {},
   "outputs": [
    {
     "name": "stdout",
     "output_type": "stream",
     "text": [
      "ResNet(\n",
      "  (conv1): Conv2d(3, 64, kernel_size=(7, 7), stride=(2, 2), padding=(3, 3), bias=False)\n",
      "  (bn1): BatchNorm2d(64, eps=1e-05, momentum=0.1, affine=True, track_running_stats=True)\n",
      "  (relu): Sequential(\n",
      "    (0): ReLU(inplace=True)\n",
      "    (1): Dropout2d(p=0.2, inplace=False)\n",
      "  )\n",
      "  (maxpool): MaxPool2d(kernel_size=3, stride=2, padding=1, dilation=1, ceil_mode=False)\n",
      "  (layer1): Sequential(\n",
      "    (0): BasicBlock(\n",
      "      (conv1): Conv2d(64, 64, kernel_size=(3, 3), stride=(1, 1), padding=(1, 1), bias=False)\n",
      "      (bn1): BatchNorm2d(64, eps=1e-05, momentum=0.1, affine=True, track_running_stats=True)\n",
      "      (relu): Sequential(\n",
      "        (0): ReLU(inplace=True)\n",
      "        (1): Dropout2d(p=0.2, inplace=False)\n",
      "      )\n",
      "      (conv2): Conv2d(64, 64, kernel_size=(3, 3), stride=(1, 1), padding=(1, 1), bias=False)\n",
      "      (bn2): BatchNorm2d(64, eps=1e-05, momentum=0.1, affine=True, track_running_stats=True)\n",
      "    )\n",
      "    (1): BasicBlock(\n",
      "      (conv1): Conv2d(64, 64, kernel_size=(3, 3), stride=(1, 1), padding=(1, 1), bias=False)\n",
      "      (bn1): BatchNorm2d(64, eps=1e-05, momentum=0.1, affine=True, track_running_stats=True)\n",
      "      (relu): Sequential(\n",
      "        (0): ReLU(inplace=True)\n",
      "        (1): Dropout2d(p=0.2, inplace=False)\n",
      "      )\n",
      "      (conv2): Conv2d(64, 64, kernel_size=(3, 3), stride=(1, 1), padding=(1, 1), bias=False)\n",
      "      (bn2): BatchNorm2d(64, eps=1e-05, momentum=0.1, affine=True, track_running_stats=True)\n",
      "    )\n",
      "  )\n",
      "  (layer2): Sequential(\n",
      "    (0): BasicBlock(\n",
      "      (conv1): Conv2d(64, 128, kernel_size=(3, 3), stride=(2, 2), padding=(1, 1), bias=False)\n",
      "      (bn1): BatchNorm2d(128, eps=1e-05, momentum=0.1, affine=True, track_running_stats=True)\n",
      "      (relu): Sequential(\n",
      "        (0): ReLU(inplace=True)\n",
      "        (1): Dropout2d(p=0.2, inplace=False)\n",
      "      )\n",
      "      (conv2): Conv2d(128, 128, kernel_size=(3, 3), stride=(1, 1), padding=(1, 1), bias=False)\n",
      "      (bn2): BatchNorm2d(128, eps=1e-05, momentum=0.1, affine=True, track_running_stats=True)\n",
      "      (downsample): Sequential(\n",
      "        (0): Conv2d(64, 128, kernel_size=(1, 1), stride=(2, 2), bias=False)\n",
      "        (1): BatchNorm2d(128, eps=1e-05, momentum=0.1, affine=True, track_running_stats=True)\n",
      "      )\n",
      "    )\n",
      "    (1): BasicBlock(\n",
      "      (conv1): Conv2d(128, 128, kernel_size=(3, 3), stride=(1, 1), padding=(1, 1), bias=False)\n",
      "      (bn1): BatchNorm2d(128, eps=1e-05, momentum=0.1, affine=True, track_running_stats=True)\n",
      "      (relu): Sequential(\n",
      "        (0): ReLU(inplace=True)\n",
      "        (1): Dropout2d(p=0.2, inplace=False)\n",
      "      )\n",
      "      (conv2): Conv2d(128, 128, kernel_size=(3, 3), stride=(1, 1), padding=(1, 1), bias=False)\n",
      "      (bn2): BatchNorm2d(128, eps=1e-05, momentum=0.1, affine=True, track_running_stats=True)\n",
      "    )\n",
      "  )\n",
      "  (layer3): Sequential(\n",
      "    (0): BasicBlock(\n",
      "      (conv1): Conv2d(128, 256, kernel_size=(3, 3), stride=(2, 2), padding=(1, 1), bias=False)\n",
      "      (bn1): BatchNorm2d(256, eps=1e-05, momentum=0.1, affine=True, track_running_stats=True)\n",
      "      (relu): Sequential(\n",
      "        (0): ReLU(inplace=True)\n",
      "        (1): Dropout2d(p=0.2, inplace=False)\n",
      "      )\n",
      "      (conv2): Conv2d(256, 256, kernel_size=(3, 3), stride=(1, 1), padding=(1, 1), bias=False)\n",
      "      (bn2): BatchNorm2d(256, eps=1e-05, momentum=0.1, affine=True, track_running_stats=True)\n",
      "      (downsample): Sequential(\n",
      "        (0): Conv2d(128, 256, kernel_size=(1, 1), stride=(2, 2), bias=False)\n",
      "        (1): BatchNorm2d(256, eps=1e-05, momentum=0.1, affine=True, track_running_stats=True)\n",
      "      )\n",
      "    )\n",
      "    (1): BasicBlock(\n",
      "      (conv1): Conv2d(256, 256, kernel_size=(3, 3), stride=(1, 1), padding=(1, 1), bias=False)\n",
      "      (bn1): BatchNorm2d(256, eps=1e-05, momentum=0.1, affine=True, track_running_stats=True)\n",
      "      (relu): Sequential(\n",
      "        (0): ReLU(inplace=True)\n",
      "        (1): Dropout2d(p=0.2, inplace=False)\n",
      "      )\n",
      "      (conv2): Conv2d(256, 256, kernel_size=(3, 3), stride=(1, 1), padding=(1, 1), bias=False)\n",
      "      (bn2): BatchNorm2d(256, eps=1e-05, momentum=0.1, affine=True, track_running_stats=True)\n",
      "    )\n",
      "  )\n",
      "  (layer4): Sequential(\n",
      "    (0): BasicBlock(\n",
      "      (conv1): Conv2d(256, 512, kernel_size=(3, 3), stride=(2, 2), padding=(1, 1), bias=False)\n",
      "      (bn1): BatchNorm2d(512, eps=1e-05, momentum=0.1, affine=True, track_running_stats=True)\n",
      "      (relu): Sequential(\n",
      "        (0): ReLU(inplace=True)\n",
      "        (1): Dropout2d(p=0.2, inplace=False)\n",
      "      )\n",
      "      (conv2): Conv2d(512, 512, kernel_size=(3, 3), stride=(1, 1), padding=(1, 1), bias=False)\n",
      "      (bn2): BatchNorm2d(512, eps=1e-05, momentum=0.1, affine=True, track_running_stats=True)\n",
      "      (downsample): Sequential(\n",
      "        (0): Conv2d(256, 512, kernel_size=(1, 1), stride=(2, 2), bias=False)\n",
      "        (1): BatchNorm2d(512, eps=1e-05, momentum=0.1, affine=True, track_running_stats=True)\n",
      "      )\n",
      "    )\n",
      "    (1): BasicBlock(\n",
      "      (conv1): Conv2d(512, 512, kernel_size=(3, 3), stride=(1, 1), padding=(1, 1), bias=False)\n",
      "      (bn1): BatchNorm2d(512, eps=1e-05, momentum=0.1, affine=True, track_running_stats=True)\n",
      "      (relu): Sequential(\n",
      "        (0): ReLU(inplace=True)\n",
      "        (1): Dropout2d(p=0.2, inplace=False)\n",
      "      )\n",
      "      (conv2): Conv2d(512, 512, kernel_size=(3, 3), stride=(1, 1), padding=(1, 1), bias=False)\n",
      "      (bn2): BatchNorm2d(512, eps=1e-05, momentum=0.1, affine=True, track_running_stats=True)\n",
      "    )\n",
      "  )\n",
      "  (avgpool): AdaptiveAvgPool2d(output_size=(1, 1))\n",
      "  (fc): Linear(in_features=512, out_features=6, bias=True)\n",
      ")\n"
     ]
    }
   ],
   "source": [
    "if model_name==\"mlp\":\n",
    "    model = MyMLP(150*150*3, num_classes)\n",
    "    input_size = (150, 150)\n",
    "elif model_name==\"resnet18\":\n",
    "    if model_is_pretrained:\n",
    "        model = resnet18(weights=ResNet18_Weights.DEFAULT)\n",
    "    else:\n",
    "        model = resnet18(weights=None)\n",
    "    input_size = (224, 224)\n",
    "    model.fc = torch.nn.Linear(512, num_classes)\n",
    "elif model_name==\"resnet50\":\n",
    "    if model_is_pretrained:\n",
    "        model = resnet50(weights=ResNet50_Weights.DEFAULT)\n",
    "    else:\n",
    "        model = resnet50(weights=None)\n",
    "    input_size = (224, 224)\n",
    "    model.fc = torch.nn.Linear(512, num_classes)\n",
    "elif model_name==\"vgg11\":\n",
    "    if model_is_pretrained:\n",
    "        model = vgg11(weights=VGG11_Weights.DEFAULT)\n",
    "    else:\n",
    "        model = vgg11(weights=None)\n",
    "    input_size = (224, 224)\n",
    "    model.classifier[6] = torch.nn.Linear(4096,num_classes)\n",
    "\n",
    "\n",
    "# Add dropout to the model\n",
    "def append_dropout(model, rate=0.2):\n",
    "        for name, module in model.named_children():\n",
    "            if len(list(module.children())) > 0:\n",
    "                append_dropout(module)\n",
    "            if isinstance(module, torch.nn.ReLU):\n",
    "                new = torch.nn.Sequential(module, torch.nn.Dropout2d(p=rate))\n",
    "                setattr(model, name, new)\n",
    "                \n",
    "if regularization in [\"dropout\", \"both\"]:\n",
    "    append_dropout(model)\n",
    "\n",
    "model = model.to(device)\n",
    "print(model)"
   ]
  },
  {
   "cell_type": "markdown",
   "metadata": {},
   "source": [
    "## 优化器："
   ]
  },
  {
   "cell_type": "code",
   "execution_count": 4,
   "metadata": {},
   "outputs": [],
   "source": [
    "if optimizer_name==\"SGD\":\n",
    "    if regularization in [\"none\", \"dropout\"]:\n",
    "        optimizer = SGD(model.parameters(), lr=lr)\n",
    "    elif regularization in [\"weight_decay\", \"both\"]:\n",
    "        optimizer = SGD(model.parameters(), weight_decay=0.001, lr=lr)\n",
    "elif optimizer_name==\"Adagrad\":\n",
    "    if regularization in [\"none\", \"dropout\"]:\n",
    "        optimizer = Adagrad(model.parameters(), lr=lr)\n",
    "    elif regularization in [\"weight_decay\", \"both\"]:\n",
    "        optimizer = Adagrad(model.parameters(), weight_decay=0.001, lr=lr)\n",
    "elif optimizer_name==\"Adam\":\n",
    "    if regularization in [\"none\", \"dropout\"]:\n",
    "        optimizer = Adam(model.parameters(), lr=lr)\n",
    "    elif regularization in [\"weight_decay\", \"both\"]:\n",
    "        optimizer = Adam(model.parameters(), weight_decay=0.001, lr=lr)\n"
   ]
  },
  {
   "cell_type": "markdown",
   "metadata": {},
   "source": [
    "## 数据增强与预处理："
   ]
  },
  {
   "cell_type": "code",
   "execution_count": 5,
   "metadata": {},
   "outputs": [],
   "source": [
    "if augmentation==\"none\":\n",
    "    transform = transforms.Compose([\n",
    "        transforms.Resize(input_size), \n",
    "        transforms.ToTensor()\n",
    "    ])\n",
    "elif augmentation==\"flip\":\n",
    "    transform = transforms.Compose([\n",
    "        transforms.Resize(input_size), \n",
    "        transforms.RandomHorizontalFlip(), \n",
    "        transforms.ToTensor()\n",
    "    ])\n",
    "elif augmentation==\"crop\":\n",
    "    transform = transforms.Compose([\n",
    "        transforms.RandomResizedCrop(input_size), \n",
    "        transforms.ToTensor()\n",
    "    ])\n",
    "elif augmentation==\"norm\":    \n",
    "    transform = transforms.Compose([\n",
    "        transforms.Resize(input_size), \n",
    "        transforms.ToTensor(), \n",
    "        transforms.Normalize(mean=(0, 0, 0), std=(1, 1, 1))\n",
    "    ])\n",
    "elif augmentation==\"all\":\n",
    "    transform = transforms.Compose([\n",
    "        transforms.RandomHorizontalFlip(), \n",
    "        transforms.RandomResizedCrop(input_size), \n",
    "        transforms.ToTensor(), \n",
    "        transforms.Normalize(mean=(0, 0, 0), std=(1, 1, 1))\n",
    "    ])\n",
    "\n",
    "dataset = datasets.ImageFolder(\"./dataset/seg_train/\", transform)\n",
    "dataloader = DataLoader(dataset, batch_size=32, shuffle=True, num_workers=8)"
   ]
  },
  {
   "cell_type": "markdown",
   "metadata": {},
   "source": [
    "## 训练过程："
   ]
  },
  {
   "cell_type": "code",
   "execution_count": 6,
   "metadata": {},
   "outputs": [
    {
     "name": "stderr",
     "output_type": "stream",
     "text": [
      "Training epoch 1: 100%|██████████| 439/439 [00:34<00:00, 12.73it/s]\n"
     ]
    },
    {
     "name": "stdout",
     "output_type": "stream",
     "text": [
      "Epoch 1 (14034 instances), loss = 1.402228, accuracy = 0.434801\n"
     ]
    },
    {
     "name": "stderr",
     "output_type": "stream",
     "text": [
      "Training epoch 2: 100%|██████████| 439/439 [00:29<00:00, 14.68it/s]\n"
     ]
    },
    {
     "name": "stdout",
     "output_type": "stream",
     "text": [
      "Epoch 2 (14034 instances), loss = 1.161857, accuracy = 0.531994\n"
     ]
    },
    {
     "name": "stderr",
     "output_type": "stream",
     "text": [
      "Training epoch 3: 100%|██████████| 439/439 [00:29<00:00, 14.70it/s]\n"
     ]
    },
    {
     "name": "stdout",
     "output_type": "stream",
     "text": [
      "Epoch 3 (14034 instances), loss = 1.113657, accuracy = 0.553727\n"
     ]
    },
    {
     "name": "stderr",
     "output_type": "stream",
     "text": [
      "Training epoch 4: 100%|██████████| 439/439 [00:30<00:00, 14.54it/s]\n"
     ]
    },
    {
     "name": "stdout",
     "output_type": "stream",
     "text": [
      "Epoch 4 (14034 instances), loss = 1.076994, accuracy = 0.566054\n"
     ]
    },
    {
     "name": "stderr",
     "output_type": "stream",
     "text": [
      "Training epoch 5: 100%|██████████| 439/439 [00:30<00:00, 14.56it/s]\n"
     ]
    },
    {
     "name": "stdout",
     "output_type": "stream",
     "text": [
      "Epoch 5 (14034 instances), loss = 1.059272, accuracy = 0.575531\n"
     ]
    },
    {
     "name": "stderr",
     "output_type": "stream",
     "text": [
      "Training epoch 6: 100%|██████████| 439/439 [00:30<00:00, 14.47it/s]\n"
     ]
    },
    {
     "name": "stdout",
     "output_type": "stream",
     "text": [
      "Epoch 6 (14034 instances), loss = 1.038069, accuracy = 0.586362\n"
     ]
    },
    {
     "name": "stderr",
     "output_type": "stream",
     "text": [
      "Training epoch 7: 100%|██████████| 439/439 [00:30<00:00, 14.61it/s]\n"
     ]
    },
    {
     "name": "stdout",
     "output_type": "stream",
     "text": [
      "Epoch 7 (14034 instances), loss = 1.013524, accuracy = 0.594485\n"
     ]
    },
    {
     "name": "stderr",
     "output_type": "stream",
     "text": [
      "Training epoch 8: 100%|██████████| 439/439 [00:29<00:00, 14.91it/s]\n"
     ]
    },
    {
     "name": "stdout",
     "output_type": "stream",
     "text": [
      "Epoch 8 (14034 instances), loss = 0.997182, accuracy = 0.597763\n"
     ]
    },
    {
     "name": "stderr",
     "output_type": "stream",
     "text": [
      "Training epoch 9: 100%|██████████| 439/439 [00:29<00:00, 14.67it/s]\n"
     ]
    },
    {
     "name": "stdout",
     "output_type": "stream",
     "text": [
      "Epoch 9 (14034 instances), loss = 0.982810, accuracy = 0.611159\n"
     ]
    },
    {
     "name": "stderr",
     "output_type": "stream",
     "text": [
      "Training epoch 10: 100%|██████████| 439/439 [00:30<00:00, 14.62it/s]\n"
     ]
    },
    {
     "name": "stdout",
     "output_type": "stream",
     "text": [
      "Epoch 10 (14034 instances), loss = 0.973409, accuracy = 0.611800\n"
     ]
    },
    {
     "name": "stderr",
     "output_type": "stream",
     "text": [
      "Training epoch 11: 100%|██████████| 439/439 [00:30<00:00, 14.58it/s]\n"
     ]
    },
    {
     "name": "stdout",
     "output_type": "stream",
     "text": [
      "Epoch 11 (14034 instances), loss = 0.958381, accuracy = 0.618498\n"
     ]
    },
    {
     "name": "stderr",
     "output_type": "stream",
     "text": [
      "Training epoch 12: 100%|██████████| 439/439 [00:30<00:00, 14.53it/s]\n"
     ]
    },
    {
     "name": "stdout",
     "output_type": "stream",
     "text": [
      "Epoch 12 (14034 instances), loss = 0.940759, accuracy = 0.631466\n"
     ]
    },
    {
     "name": "stderr",
     "output_type": "stream",
     "text": [
      "Training epoch 13: 100%|██████████| 439/439 [00:30<00:00, 14.61it/s]\n"
     ]
    },
    {
     "name": "stdout",
     "output_type": "stream",
     "text": [
      "Epoch 13 (14034 instances), loss = 0.929086, accuracy = 0.636811\n"
     ]
    },
    {
     "name": "stderr",
     "output_type": "stream",
     "text": [
      "Training epoch 14: 100%|██████████| 439/439 [00:30<00:00, 14.46it/s]\n"
     ]
    },
    {
     "name": "stdout",
     "output_type": "stream",
     "text": [
      "Epoch 14 (14034 instances), loss = 0.915285, accuracy = 0.642654\n"
     ]
    },
    {
     "name": "stderr",
     "output_type": "stream",
     "text": [
      "Training epoch 15: 100%|██████████| 439/439 [00:30<00:00, 14.51it/s]\n"
     ]
    },
    {
     "name": "stdout",
     "output_type": "stream",
     "text": [
      "Epoch 15 (14034 instances), loss = 0.915837, accuracy = 0.647570\n"
     ]
    },
    {
     "name": "stderr",
     "output_type": "stream",
     "text": [
      "Training epoch 16: 100%|██████████| 439/439 [00:28<00:00, 15.32it/s]\n"
     ]
    },
    {
     "name": "stdout",
     "output_type": "stream",
     "text": [
      "Epoch 16 (14034 instances), loss = 0.910581, accuracy = 0.648140\n"
     ]
    },
    {
     "name": "stderr",
     "output_type": "stream",
     "text": [
      "Training epoch 17: 100%|██████████| 439/439 [00:27<00:00, 15.83it/s]\n"
     ]
    },
    {
     "name": "stdout",
     "output_type": "stream",
     "text": [
      "Epoch 17 (14034 instances), loss = 0.910040, accuracy = 0.650064\n"
     ]
    },
    {
     "name": "stderr",
     "output_type": "stream",
     "text": [
      "Training epoch 18: 100%|██████████| 439/439 [00:28<00:00, 15.51it/s]\n"
     ]
    },
    {
     "name": "stdout",
     "output_type": "stream",
     "text": [
      "Epoch 18 (14034 instances), loss = 0.900429, accuracy = 0.653342\n"
     ]
    },
    {
     "name": "stderr",
     "output_type": "stream",
     "text": [
      "Training epoch 19: 100%|██████████| 439/439 [00:27<00:00, 15.70it/s]\n"
     ]
    },
    {
     "name": "stdout",
     "output_type": "stream",
     "text": [
      "Epoch 19 (14034 instances), loss = 0.901645, accuracy = 0.652344\n"
     ]
    },
    {
     "name": "stderr",
     "output_type": "stream",
     "text": [
      "Training epoch 20: 100%|██████████| 439/439 [00:27<00:00, 16.11it/s]\n"
     ]
    },
    {
     "name": "stdout",
     "output_type": "stream",
     "text": [
      "Epoch 20 (14034 instances), loss = 0.892862, accuracy = 0.659185\n"
     ]
    },
    {
     "name": "stderr",
     "output_type": "stream",
     "text": [
      "Training epoch 21:  73%|███████▎  | 322/439 [00:21<00:07, 14.92it/s]\n"
     ]
    },
    {
     "ename": "KeyboardInterrupt",
     "evalue": "",
     "output_type": "error",
     "traceback": [
      "\u001b[1;31m---------------------------------------------------------------------------\u001b[0m",
      "\u001b[1;31mKeyboardInterrupt\u001b[0m                         Traceback (most recent call last)",
      "\u001b[1;32m~\\AppData\\Local\\Temp\\ipykernel_13480\\1482501711.py\u001b[0m in \u001b[0;36m<module>\u001b[1;34m\u001b[0m\n\u001b[0;32m     30\u001b[0m \u001b[0mmodel\u001b[0m\u001b[1;33m.\u001b[0m\u001b[0mtrain\u001b[0m\u001b[1;33m(\u001b[0m\u001b[1;33m)\u001b[0m\u001b[1;33m\u001b[0m\u001b[1;33m\u001b[0m\u001b[0m\n\u001b[0;32m     31\u001b[0m \u001b[1;32mfor\u001b[0m \u001b[0mepoch\u001b[0m \u001b[1;32min\u001b[0m \u001b[0mrange\u001b[0m\u001b[1;33m(\u001b[0m\u001b[1;36m1\u001b[0m\u001b[1;33m,\u001b[0m \u001b[1;36m61\u001b[0m\u001b[1;33m)\u001b[0m\u001b[1;33m:\u001b[0m\u001b[1;33m\u001b[0m\u001b[1;33m\u001b[0m\u001b[0m\n\u001b[1;32m---> 32\u001b[1;33m     \u001b[0mepoch_loss\u001b[0m\u001b[1;33m,\u001b[0m \u001b[0mepoch_accuracy\u001b[0m \u001b[1;33m=\u001b[0m \u001b[0mtrain_one_epoch\u001b[0m\u001b[1;33m(\u001b[0m\u001b[0mmodel\u001b[0m\u001b[1;33m,\u001b[0m \u001b[0mdataloader\u001b[0m\u001b[1;33m,\u001b[0m \u001b[0mtransform\u001b[0m\u001b[1;33m,\u001b[0m \u001b[0moptimizer\u001b[0m\u001b[1;33m,\u001b[0m \u001b[0mepoch\u001b[0m\u001b[1;33m)\u001b[0m\u001b[1;33m\u001b[0m\u001b[1;33m\u001b[0m\u001b[0m\n\u001b[0m\u001b[0;32m     33\u001b[0m     \u001b[0mepoch_losses\u001b[0m\u001b[1;33m.\u001b[0m\u001b[0mappend\u001b[0m\u001b[1;33m(\u001b[0m\u001b[0mepoch_loss\u001b[0m\u001b[1;33m)\u001b[0m\u001b[1;33m\u001b[0m\u001b[1;33m\u001b[0m\u001b[0m\n\u001b[0;32m     34\u001b[0m     \u001b[0mepoch_accuracies\u001b[0m\u001b[1;33m.\u001b[0m\u001b[0mappend\u001b[0m\u001b[1;33m(\u001b[0m\u001b[0mepoch_accuracy\u001b[0m\u001b[1;33m)\u001b[0m\u001b[1;33m\u001b[0m\u001b[1;33m\u001b[0m\u001b[0m\n",
      "\u001b[1;32m~\\AppData\\Local\\Temp\\ipykernel_13480\\1482501711.py\u001b[0m in \u001b[0;36mtrain_one_epoch\u001b[1;34m(model, dataloader, transform, optimizer, current_epoch)\u001b[0m\n\u001b[0;32m     13\u001b[0m         \u001b[0moptimizer\u001b[0m\u001b[1;33m.\u001b[0m\u001b[0mstep\u001b[0m\u001b[1;33m(\u001b[0m\u001b[1;33m)\u001b[0m\u001b[1;33m\u001b[0m\u001b[1;33m\u001b[0m\u001b[0m\n\u001b[0;32m     14\u001b[0m \u001b[1;33m\u001b[0m\u001b[0m\n\u001b[1;32m---> 15\u001b[1;33m         \u001b[0mepoch_loss\u001b[0m \u001b[1;33m+=\u001b[0m \u001b[0mloss\u001b[0m\u001b[1;33m.\u001b[0m\u001b[0mitem\u001b[0m\u001b[1;33m(\u001b[0m\u001b[1;33m)\u001b[0m\u001b[1;33m*\u001b[0m\u001b[0minputs\u001b[0m\u001b[1;33m.\u001b[0m\u001b[0msize\u001b[0m\u001b[1;33m(\u001b[0m\u001b[1;36m0\u001b[0m\u001b[1;33m)\u001b[0m\u001b[1;33m\u001b[0m\u001b[1;33m\u001b[0m\u001b[0m\n\u001b[0m\u001b[0;32m     16\u001b[0m         \u001b[0m_\u001b[0m\u001b[1;33m,\u001b[0m \u001b[0mpredictions\u001b[0m \u001b[1;33m=\u001b[0m \u001b[0mtorch\u001b[0m\u001b[1;33m.\u001b[0m\u001b[0mmax\u001b[0m\u001b[1;33m(\u001b[0m\u001b[0moutputs\u001b[0m\u001b[1;33m,\u001b[0m \u001b[1;36m1\u001b[0m\u001b[1;33m)\u001b[0m\u001b[1;33m\u001b[0m\u001b[1;33m\u001b[0m\u001b[0m\n\u001b[0;32m     17\u001b[0m         \u001b[0mcorrect_predictions\u001b[0m \u001b[1;33m+=\u001b[0m \u001b[0mtorch\u001b[0m\u001b[1;33m.\u001b[0m\u001b[0msum\u001b[0m\u001b[1;33m(\u001b[0m\u001b[0mpredictions\u001b[0m\u001b[1;33m==\u001b[0m\u001b[0mlabels\u001b[0m\u001b[1;33m.\u001b[0m\u001b[0mdata\u001b[0m\u001b[1;33m)\u001b[0m\u001b[1;33m.\u001b[0m\u001b[0mitem\u001b[0m\u001b[1;33m(\u001b[0m\u001b[1;33m)\u001b[0m\u001b[1;33m\u001b[0m\u001b[1;33m\u001b[0m\u001b[0m\n",
      "\u001b[1;31mKeyboardInterrupt\u001b[0m: "
     ]
    }
   ],
   "source": [
    "def train_one_epoch(model: torch.nn.Module, dataloader: DataLoader, transform: transforms.Compose, \n",
    "                    optimizer: torch.optim.Optimizer, current_epoch: int):\n",
    "    correct_predictions = 0\n",
    "    epoch_instance_count = 0\n",
    "    epoch_loss = 0\n",
    "    for inputs, labels in tqdm(dataloader, desc=\"Training epoch %d\"%current_epoch):\n",
    "        optimizer.zero_grad()\n",
    "        inputs = inputs.to(device)\n",
    "        labels = labels.to(device)\n",
    "        outputs = model(inputs)\n",
    "        loss = torch.nn.functional.cross_entropy(outputs, labels)\n",
    "        loss.backward()\n",
    "        optimizer.step()\n",
    "        \n",
    "        epoch_loss += loss.item()*inputs.size(0)\n",
    "        _, predictions = torch.max(outputs, 1)\n",
    "        correct_predictions += torch.sum(predictions==labels.data).item()\n",
    "        epoch_instance_count += inputs.size(0)\n",
    "    epoch_accuracy = correct_predictions/epoch_instance_count\n",
    "    epoch_loss /= epoch_instance_count\n",
    "    if current_epoch%1==0:\n",
    "        print(\"Epoch %d (%d instances), loss = %f, accuracy = %f\"%(current_epoch, epoch_instance_count, epoch_loss, epoch_accuracy))\n",
    "    if current_epoch%10==0:\n",
    "        os.makedirs(\"./outputs/runs/%s\"%run_name, exist_ok=True)\n",
    "        torch.save(model, \"./outputs/runs/%s/model_epoch_%d\"%(run_name, current_epoch))\n",
    "    return epoch_loss, epoch_accuracy\n",
    "\n",
    "epoch_losses = []\n",
    "epoch_accuracies = []\n",
    "model.train()\n",
    "for epoch in range(1, 61):\n",
    "    epoch_loss, epoch_accuracy = train_one_epoch(model, dataloader, transform, optimizer, epoch)\n",
    "    epoch_losses.append(epoch_loss)\n",
    "    epoch_accuracies.append(epoch_accuracy)\n"
   ]
  },
  {
   "cell_type": "code",
   "execution_count": null,
   "metadata": {},
   "outputs": [],
   "source": [
    "save_config(run_name, model_name, model_is_pretrained, num_classes, optimizer_name, lr, augmentation, regularization)"
   ]
  },
  {
   "cell_type": "markdown",
   "metadata": {},
   "source": [
    "## 测试网络："
   ]
  },
  {
   "cell_type": "code",
   "execution_count": 7,
   "metadata": {},
   "outputs": [
    {
     "name": "stderr",
     "output_type": "stream",
     "text": [
      "Testing: 100%|██████████| 94/94 [00:03<00:00, 26.80it/s]"
     ]
    },
    {
     "name": "stdout",
     "output_type": "stream",
     "text": [
      "Testing (3000 instances), accuracy = 0.703000\n"
     ]
    },
    {
     "name": "stderr",
     "output_type": "stream",
     "text": [
      "\n"
     ]
    }
   ],
   "source": [
    "# run_name = \"2023-05-14 21.22.16\"\n",
    "model = torch.load(\"./outputs/runs/%s/model_epoch_20\"%run_name)\n",
    "def test(model: torch.nn.Module, dataloader: DataLoader):\n",
    "    correct_predictions = 0\n",
    "    epoch_instance_count = 0\n",
    "    model.eval()\n",
    "    with torch.no_grad():\n",
    "        for inputs, labels in tqdm(dataloader, desc=\"Testing\"):\n",
    "            inputs = inputs.to(device)\n",
    "            labels = labels.to(device)\n",
    "            outputs = model(inputs)\n",
    "            _, predictions = torch.max(outputs, 1)\n",
    "            correct_predictions += torch.sum(predictions==labels.data)\n",
    "            epoch_instance_count += inputs.size(0)\n",
    "    epoch_accuracy = correct_predictions/epoch_instance_count\n",
    "    print(\"Testing (%d instances), accuracy = %f\"%(epoch_instance_count, epoch_accuracy))\n",
    "\n",
    "testset = datasets.ImageFolder(\"./dataset/seg_test/\", transform = transforms.Compose([\n",
    "        transforms.Resize(input_size), \n",
    "        transforms.ToTensor()\n",
    "    ])) # Do not transform input images in testing. \n",
    "testloader = DataLoader(testset, batch_size=32, shuffle=True, num_workers=0)\n",
    "test(model, testloader)\n"
   ]
  },
  {
   "cell_type": "markdown",
   "metadata": {},
   "source": [
    "## 画图"
   ]
  },
  {
   "cell_type": "code",
   "execution_count": 8,
   "metadata": {},
   "outputs": [
    {
     "data": {
      "image/png": "[encoded data removed]",
      "text/plain": [
       "<Figure size 640x480 with 1 Axes>"
      ]
     },
     "metadata": {},
     "output_type": "display_data"
    },
    {
     "data": {
      "image/png": "[encoded data removed]",
      "text/plain": [
       "<Figure size 640x480 with 1 Axes>"
      ]
     },
     "metadata": {},
     "output_type": "display_data"
    }
   ],
   "source": [
    "import matplotlib.pyplot as plt\n",
    "plt.plot(epoch_losses)\n",
    "plt.title(\"Epoch Losses\")\n",
    "plt.savefig(\"./outputs/runs/%s/loss.png\"%run_name)\n",
    "plt.show()\n",
    "plt.plot(epoch_accuracies)\n",
    "plt.title(\"Epoch Accuracies\")\n",
    "plt.savefig(\"./outputs/runs/%s/acc.png\"%run_name)\n",
    "plt.show()"
   ]
  }
 ],
 "metadata": {
  "kernelspec": {
   "display_name": "Python 3.7.13 ('ML')",
   "language": "python",
   "name": "python3"
  },
  "language_info": {
   "codemirror_mode": {
    "name": "ipython",
    "version": 3
   },
   "file_extension": ".py",
   "mimetype": "text/x-python",
   "name": "python",
   "nbconvert_exporter": "python",
   "pygments_lexer": "ipython3",
   "version": "3.7.13"
  },
  "orig_nbformat": 4,
  "vscode": {
   "interpreter": {
    "hash": "8809126b2e3f6bd67afd8dec0aaf136102c3339cf179547b748c69a78a732e29"
   }
  }
 },
 "nbformat": 4,
 "nbformat_minor": 2
}
